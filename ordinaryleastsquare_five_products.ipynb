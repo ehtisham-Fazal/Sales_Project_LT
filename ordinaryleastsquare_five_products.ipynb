{
 "cells": [
  {
   "attachments": {
    "lambdatheta.jpg": {
     "image/jpeg": "[encoded data removed]"
    }
   },
   "cell_type": "markdown",
   "id": "db8b5cd7",
   "metadata": {},
   "source": [
    "![lambdatheta.jpg](attachment:lambdatheta.jpg)"
   ]
  },
  {
   "cell_type": "code",
   "execution_count": 33,
   "id": "942af3bb",
   "metadata": {},
   "outputs": [],
   "source": [
    "import pandas as pd\n",
    "import numpy as np\n",
    "import statsmodels.api as sm\n",
    "import matplotlib.pyplot as plt"
   ]
  },
  {
   "cell_type": "code",
   "execution_count": 24,
   "id": "561ea53d",
   "metadata": {},
   "outputs": [],
   "source": [
    "df=pd.read_csv(r\"C:\\Users\\ehtis\\OneDrive\\Desktop\\SALES FORCAASTING\\dataset_five.csv\")"
   ]
  },
  {
   "cell_type": "code",
   "execution_count": 25,
   "id": "bbc29dec",
   "metadata": {},
   "outputs": [
    {
     "data": {
      "text/plain": [
       "(50, 15)"
      ]
     },
     "execution_count": 25,
     "metadata": {},
     "output_type": "execute_result"
    }
   ],
   "source": [
    "df.shape"
   ]
  },
  {
   "cell_type": "code",
   "execution_count": 9,
   "id": "594a958e",
   "metadata": {},
   "outputs": [
    {
     "data": {
      "text/plain": [
       "(50, 14)"
      ]
     },
     "execution_count": 9,
     "metadata": {},
     "output_type": "execute_result"
    }
   ],
   "source": [
    "X.shape"
   ]
  },
  {
   "cell_type": "code",
   "execution_count": 27,
   "id": "0e070207",
   "metadata": {},
   "outputs": [],
   "source": [
    "df = pd.get_dummies(df, columns=['Product'], drop_first=True)"
   ]
  },
  {
   "cell_type": "code",
   "execution_count": 28,
   "id": "4c59099d",
   "metadata": {},
   "outputs": [],
   "source": [
    "y = df['Output']\n",
    "X = df.drop('Output', axis=1)"
   ]
  },
  {
   "cell_type": "code",
   "execution_count": 29,
   "id": "1c50c0ab",
   "metadata": {},
   "outputs": [
    {
     "data": {
      "text/plain": [
       "Index(['Season', 'Location', 'Competetion_in_Market', 'Marketing',\n",
       "       'Consumer_Bahviour', 'Discounted_price', 'Product_Quality',\n",
       "       'Product_Availability', 'Probabilty_of_sale', 'Recession',\n",
       "       'Self_location', 'No_of_shelf', 'Essential_product',\n",
       "       'Product_Medicines ', 'Product_Milk', 'Product_Sugar',\n",
       "       'Product_candies'],\n",
       "      dtype='object')"
      ]
     },
     "execution_count": 29,
     "metadata": {},
     "output_type": "execute_result"
    }
   ],
   "source": [
    "X.columns"
   ]
  },
  {
   "cell_type": "code",
   "execution_count": 55,
   "id": "e38f0af5",
   "metadata": {},
   "outputs": [
    {
     "data": {
      "text/html": [
       "<div>\n",
       "<style scoped>\n",
       "    .dataframe tbody tr th:only-of-type {\n",
       "        vertical-align: middle;\n",
       "    }\n",
       "\n",
       "    .dataframe tbody tr th {\n",
       "        vertical-align: top;\n",
       "    }\n",
       "\n",
       "    .dataframe thead th {\n",
       "        text-align: right;\n",
       "    }\n",
       "</style>\n",
       "<table border=\"1\" class=\"dataframe\">\n",
       "  <thead>\n",
       "    <tr style=\"text-align: right;\">\n",
       "      <th></th>\n",
       "      <th>Season</th>\n",
       "      <th>Location</th>\n",
       "      <th>Competetion_in_Market</th>\n",
       "      <th>Marketing</th>\n",
       "      <th>Consumer_Bahviour</th>\n",
       "      <th>Discounted_price</th>\n",
       "      <th>Product_Quality</th>\n",
       "      <th>Product_Availability</th>\n",
       "      <th>Probabilty_of_sale</th>\n",
       "      <th>Recession</th>\n",
       "      <th>Self_location</th>\n",
       "      <th>No_of_shelf</th>\n",
       "      <th>Essential_product</th>\n",
       "      <th>Product_Medicines</th>\n",
       "      <th>Product_Milk</th>\n",
       "      <th>Product_Sugar</th>\n",
       "      <th>Product_candies</th>\n",
       "    </tr>\n",
       "  </thead>\n",
       "  <tbody>\n",
       "    <tr>\n",
       "      <th>0</th>\n",
       "      <td>1</td>\n",
       "      <td>1.0</td>\n",
       "      <td>1</td>\n",
       "      <td>1</td>\n",
       "      <td>0</td>\n",
       "      <td>0.5</td>\n",
       "      <td>1</td>\n",
       "      <td>1.0</td>\n",
       "      <td>1</td>\n",
       "      <td>1</td>\n",
       "      <td>1.0</td>\n",
       "      <td>0.3</td>\n",
       "      <td>1.0</td>\n",
       "      <td>0</td>\n",
       "      <td>0</td>\n",
       "      <td>0</td>\n",
       "      <td>0</td>\n",
       "    </tr>\n",
       "    <tr>\n",
       "      <th>1</th>\n",
       "      <td>0</td>\n",
       "      <td>0.5</td>\n",
       "      <td>1</td>\n",
       "      <td>1</td>\n",
       "      <td>0</td>\n",
       "      <td>0.1</td>\n",
       "      <td>1</td>\n",
       "      <td>1.0</td>\n",
       "      <td>0</td>\n",
       "      <td>1</td>\n",
       "      <td>1.0</td>\n",
       "      <td>0.1</td>\n",
       "      <td>0.0</td>\n",
       "      <td>0</td>\n",
       "      <td>0</td>\n",
       "      <td>0</td>\n",
       "      <td>0</td>\n",
       "    </tr>\n",
       "    <tr>\n",
       "      <th>2</th>\n",
       "      <td>1</td>\n",
       "      <td>0.0</td>\n",
       "      <td>1</td>\n",
       "      <td>1</td>\n",
       "      <td>0</td>\n",
       "      <td>0.2</td>\n",
       "      <td>1</td>\n",
       "      <td>1.0</td>\n",
       "      <td>0</td>\n",
       "      <td>1</td>\n",
       "      <td>1.0</td>\n",
       "      <td>0.2</td>\n",
       "      <td>0.0</td>\n",
       "      <td>0</td>\n",
       "      <td>0</td>\n",
       "      <td>0</td>\n",
       "      <td>0</td>\n",
       "    </tr>\n",
       "    <tr>\n",
       "      <th>3</th>\n",
       "      <td>1</td>\n",
       "      <td>1.0</td>\n",
       "      <td>1</td>\n",
       "      <td>1</td>\n",
       "      <td>0</td>\n",
       "      <td>0.4</td>\n",
       "      <td>1</td>\n",
       "      <td>1.0</td>\n",
       "      <td>0</td>\n",
       "      <td>1</td>\n",
       "      <td>0.5</td>\n",
       "      <td>0.4</td>\n",
       "      <td>0.0</td>\n",
       "      <td>0</td>\n",
       "      <td>0</td>\n",
       "      <td>0</td>\n",
       "      <td>0</td>\n",
       "    </tr>\n",
       "    <tr>\n",
       "      <th>4</th>\n",
       "      <td>1</td>\n",
       "      <td>1.0</td>\n",
       "      <td>1</td>\n",
       "      <td>1</td>\n",
       "      <td>1</td>\n",
       "      <td>0.3</td>\n",
       "      <td>1</td>\n",
       "      <td>1.0</td>\n",
       "      <td>1</td>\n",
       "      <td>1</td>\n",
       "      <td>0.0</td>\n",
       "      <td>0.2</td>\n",
       "      <td>0.0</td>\n",
       "      <td>0</td>\n",
       "      <td>0</td>\n",
       "      <td>0</td>\n",
       "      <td>0</td>\n",
       "    </tr>\n",
       "    <tr>\n",
       "      <th>5</th>\n",
       "      <td>1</td>\n",
       "      <td>1.0</td>\n",
       "      <td>1</td>\n",
       "      <td>1</td>\n",
       "      <td>1</td>\n",
       "      <td>0.2</td>\n",
       "      <td>1</td>\n",
       "      <td>1.0</td>\n",
       "      <td>1</td>\n",
       "      <td>0</td>\n",
       "      <td>0.5</td>\n",
       "      <td>0.1</td>\n",
       "      <td>0.5</td>\n",
       "      <td>0</td>\n",
       "      <td>0</td>\n",
       "      <td>0</td>\n",
       "      <td>0</td>\n",
       "    </tr>\n",
       "    <tr>\n",
       "      <th>6</th>\n",
       "      <td>0</td>\n",
       "      <td>0.5</td>\n",
       "      <td>0</td>\n",
       "      <td>1</td>\n",
       "      <td>1</td>\n",
       "      <td>0.1</td>\n",
       "      <td>1</td>\n",
       "      <td>1.0</td>\n",
       "      <td>1</td>\n",
       "      <td>1</td>\n",
       "      <td>0.0</td>\n",
       "      <td>0.3</td>\n",
       "      <td>1.0</td>\n",
       "      <td>0</td>\n",
       "      <td>0</td>\n",
       "      <td>0</td>\n",
       "      <td>0</td>\n",
       "    </tr>\n",
       "    <tr>\n",
       "      <th>7</th>\n",
       "      <td>1</td>\n",
       "      <td>1.0</td>\n",
       "      <td>1</td>\n",
       "      <td>0</td>\n",
       "      <td>1</td>\n",
       "      <td>0.0</td>\n",
       "      <td>1</td>\n",
       "      <td>1.0</td>\n",
       "      <td>1</td>\n",
       "      <td>1</td>\n",
       "      <td>0.0</td>\n",
       "      <td>0.1</td>\n",
       "      <td>0.5</td>\n",
       "      <td>0</td>\n",
       "      <td>0</td>\n",
       "      <td>0</td>\n",
       "      <td>0</td>\n",
       "    </tr>\n",
       "    <tr>\n",
       "      <th>8</th>\n",
       "      <td>0</td>\n",
       "      <td>0.5</td>\n",
       "      <td>1</td>\n",
       "      <td>1</td>\n",
       "      <td>1</td>\n",
       "      <td>0.3</td>\n",
       "      <td>1</td>\n",
       "      <td>1.0</td>\n",
       "      <td>1</td>\n",
       "      <td>1</td>\n",
       "      <td>1.0</td>\n",
       "      <td>0.2</td>\n",
       "      <td>0.5</td>\n",
       "      <td>0</td>\n",
       "      <td>0</td>\n",
       "      <td>0</td>\n",
       "      <td>0</td>\n",
       "    </tr>\n",
       "    <tr>\n",
       "      <th>9</th>\n",
       "      <td>1</td>\n",
       "      <td>0.0</td>\n",
       "      <td>1</td>\n",
       "      <td>1</td>\n",
       "      <td>0</td>\n",
       "      <td>0.2</td>\n",
       "      <td>1</td>\n",
       "      <td>1.0</td>\n",
       "      <td>0</td>\n",
       "      <td>1</td>\n",
       "      <td>0.0</td>\n",
       "      <td>0.4</td>\n",
       "      <td>0.5</td>\n",
       "      <td>0</td>\n",
       "      <td>0</td>\n",
       "      <td>0</td>\n",
       "      <td>0</td>\n",
       "    </tr>\n",
       "  </tbody>\n",
       "</table>\n",
       "</div>"
      ],
      "text/plain": [
       "   Season  Location  Competetion_in_Market  Marketing  Consumer_Bahviour  \\\n",
       "0       1       1.0                      1          1                  0   \n",
       "1       0       0.5                      1          1                  0   \n",
       "2       1       0.0                      1          1                  0   \n",
       "3       1       1.0                      1          1                  0   \n",
       "4       1       1.0                      1          1                  1   \n",
       "5       1       1.0                      1          1                  1   \n",
       "6       0       0.5                      0          1                  1   \n",
       "7       1       1.0                      1          0                  1   \n",
       "8       0       0.5                      1          1                  1   \n",
       "9       1       0.0                      1          1                  0   \n",
       "\n",
       "   Discounted_price  Product_Quality  Product_Availability  \\\n",
       "0               0.5                1                   1.0   \n",
       "1               0.1                1                   1.0   \n",
       "2               0.2                1                   1.0   \n",
       "3               0.4                1                   1.0   \n",
       "4               0.3                1                   1.0   \n",
       "5               0.2                1                   1.0   \n",
       "6               0.1                1                   1.0   \n",
       "7               0.0                1                   1.0   \n",
       "8               0.3                1                   1.0   \n",
       "9               0.2                1                   1.0   \n",
       "\n",
       "   Probabilty_of_sale  Recession  Self_location  No_of_shelf  \\\n",
       "0                   1          1            1.0          0.3   \n",
       "1                   0          1            1.0          0.1   \n",
       "2                   0          1            1.0          0.2   \n",
       "3                   0          1            0.5          0.4   \n",
       "4                   1          1            0.0          0.2   \n",
       "5                   1          0            0.5          0.1   \n",
       "6                   1          1            0.0          0.3   \n",
       "7                   1          1            0.0          0.1   \n",
       "8                   1          1            1.0          0.2   \n",
       "9                   0          1            0.0          0.4   \n",
       "\n",
       "   Essential_product  Product_Medicines   Product_Milk  Product_Sugar  \\\n",
       "0                1.0                   0             0              0   \n",
       "1                0.0                   0             0              0   \n",
       "2                0.0                   0             0              0   \n",
       "3                0.0                   0             0              0   \n",
       "4                0.0                   0             0              0   \n",
       "5                0.5                   0             0              0   \n",
       "6                1.0                   0             0              0   \n",
       "7                0.5                   0             0              0   \n",
       "8                0.5                   0             0              0   \n",
       "9                0.5                   0             0              0   \n",
       "\n",
       "   Product_candies  \n",
       "0                0  \n",
       "1                0  \n",
       "2                0  \n",
       "3                0  \n",
       "4                0  \n",
       "5                0  \n",
       "6                0  \n",
       "7                0  \n",
       "8                0  \n",
       "9                0  "
      ]
     },
     "execution_count": 55,
     "metadata": {},
     "output_type": "execute_result"
    }
   ],
   "source": [
    "X.head(10)"
   ]
  },
  {
   "cell_type": "code",
   "execution_count": 30,
   "id": "42f39c4a",
   "metadata": {},
   "outputs": [
    {
     "name": "stdout",
     "output_type": "stream",
     "text": [
      "                                 OLS Regression Results                                \n",
      "=======================================================================================\n",
      "Dep. Variable:                 Output   R-squared (uncentered):                   1.000\n",
      "Model:                            OLS   Adj. R-squared (uncentered):              1.000\n",
      "Method:                 Least Squares   F-statistic:                          1.164e+19\n",
      "Date:                Thu, 09 Feb 2023   Prob (F-statistic):                   7.58e-305\n",
      "Time:                        17:31:06   Log-Likelihood:                          1034.9\n",
      "No. Observations:                  50   AIC:                                     -2036.\n",
      "Df Residuals:                      33   BIC:                                     -2003.\n",
      "Df Model:                          17                                                  \n",
      "Covariance Type:            nonrobust                                                  \n",
      "=========================================================================================\n",
      "                            coef    std err          t      P>|t|      [0.025      0.975]\n",
      "-----------------------------------------------------------------------------------------\n",
      "Season                    0.0769   9.78e-11   7.86e+08      0.000       0.077       0.077\n",
      "Location                  0.0769   1.15e-10   6.67e+08      0.000       0.077       0.077\n",
      "Competetion_in_Market     0.0769    1.5e-10   5.13e+08      0.000       0.077       0.077\n",
      "Marketing                 0.0769    1.1e-10   6.97e+08      0.000       0.077       0.077\n",
      "Consumer_Bahviour         0.0769   1.25e-10   6.14e+08      0.000       0.077       0.077\n",
      "Discounted_price          0.0769   3.37e-10   2.28e+08      0.000       0.077       0.077\n",
      "Product_Quality           0.0769   1.29e-10   5.95e+08      0.000       0.077       0.077\n",
      "Product_Availability      0.0769   1.39e-10   5.54e+08      0.000       0.077       0.077\n",
      "Probabilty_of_sale        0.0769   1.21e-10   6.33e+08      0.000       0.077       0.077\n",
      "Recession                 0.0769   1.07e-10   7.19e+08      0.000       0.077       0.077\n",
      "Self_location             0.0769   1.09e-10   7.04e+08      0.000       0.077       0.077\n",
      "No_of_shelf               0.0769   4.79e-10   1.61e+08      0.000       0.077       0.077\n",
      "Essential_product         0.0769   1.44e-10   5.33e+08      0.000       0.077       0.077\n",
      "Product_Medicines     -7.856e-12   1.55e-10     -0.051      0.960   -3.22e-10    3.07e-10\n",
      "Product_Milk          -2.295e-10   1.51e-10     -1.515      0.139   -5.38e-10    7.86e-11\n",
      "Product_Sugar         -5.863e-11   1.85e-10     -0.317      0.754   -4.36e-10    3.18e-10\n",
      "Product_candies        7.423e-12   1.38e-10      0.054      0.957   -2.73e-10    2.88e-10\n",
      "==============================================================================\n",
      "Omnibus:                        3.270   Durbin-Watson:                   2.009\n",
      "Prob(Omnibus):                  0.195   Jarque-Bera (JB):                1.832\n",
      "Skew:                           0.188   Prob(JB):                        0.400\n",
      "Kurtosis:                       2.141   Cond. No.                         27.0\n",
      "==============================================================================\n",
      "\n",
      "Notes:\n",
      "[1] R² is computed without centering (uncentered) since the model does not contain a constant.\n",
      "[2] Standard Errors assume that the covariance matrix of the errors is correctly specified.\n"
     ]
    }
   ],
   "source": [
    "model = sm.OLS(y, X).fit()\n",
    "\n",
    "print(model.summary())\n"
   ]
  },
  {
   "cell_type": "markdown",
   "id": "f15c02d6",
   "metadata": {},
   "source": [
    "# Model ouput summary"
   ]
  },
  {
   "cell_type": "markdown",
   "id": "b02e773f",
   "metadata": {},
   "source": [
    "The OLS (Ordinary Least Squares) Regression Results are a summary of a statistical model. The model is used to estimate the relationship between the dependent variable (Output) and several independent variables (Season, Location, Competetion_in_Market, Marketing, Consumer_Bahviour, Discounted_price, Product_Quality, Product_Availability, Probabilty_of_sale, Recession, Self_location, No_of_shelf, Essential_product, Product_Medicines, Product_Milk, Product_Sugar, Product_candies).\n",
    "\n",
    "The R-squared (uncentered) value is 1.000, which indicates that the independent variables in the model explain 100% of the variation in the dependent variable. The adjusted R-squared is also 1.000, which means that all the independent variables are significant predictors of the dependent variable.\n",
    "\n",
    "The F-statistic value of 1.164e+19 and a probability of 7.58e-305 indicate that the overall model is statistically significant. This means that at least one of the independent variables is related to the dependent variable.\n",
    "\n",
    "The log-likelihood value of 1034.9, the AIC (Akaike Information Criterion) value of -2036, and the BIC (Bayesian Information Criterion) value of -2003 are measures of goodness of fit of the model. A lower AIC and BIC value indicates a better fit of the model.\n",
    "\n",
    "The coef column shows the estimated coefficients of the independent variables in the model. The std err column shows the standard error of the coefficients. The t-value column shows the t-statistic of each coefficient, which is a measure of the significance of each coefficient. The p>|t| column shows the p-value of each coefficient, which indicates the level of significance. The [0.025, 0.975] column gives the 95% confidence interval for each coefficient, which shows the range of values that the true coefficient is likely to fall in.\n",
    "\n",
    "The Omnibus value of 3.270 and a probability of 0.195 indicate that the residuals are not normally distributed. The Jarque-Bera (JB) value of 1.832 and a probability of 0.400 indicate that the residuals have a normal distribution. The Skew and Kurtosis values of 0.188 and 2.141, respectively, give additional information about the shape of the distribution of the residuals. The Cond. No. (Condition Number) of 27.0 gives an indication of the multicollinearity in the model, with higher values indicating higher levels of multicollinearity."
   ]
  },
  {
   "cell_type": "markdown",
   "id": "aa006eb8",
   "metadata": {},
   "source": [
    "# Testing with different input features"
   ]
  },
  {
   "cell_type": "markdown",
   "id": "9219aa50",
   "metadata": {},
   "source": [
    "model output for milk product\n"
   ]
  },
  {
   "cell_type": "code",
   "execution_count": 52,
   "id": "007ba34f",
   "metadata": {},
   "outputs": [
    {
     "name": "stdout",
     "output_type": "stream",
     "text": [
      "[0.55384615]\n"
     ]
    }
   ],
   "source": [
    "\n",
    "input_2=[1,  0, 1, 0, 0,  0.2, 1, 1 ,  1, 1, 0 ,0, 1, 0, 1 ,0,  0 ]\n",
    "outputs = model.predict(input_2)\n",
    "print(outputs)\n"
   ]
  },
  {
   "cell_type": "markdown",
   "id": "d1823f78",
   "metadata": {},
   "source": [
    "model output for candy product"
   ]
  },
  {
   "cell_type": "code",
   "execution_count": 53,
   "id": "5e96d32c",
   "metadata": {},
   "outputs": [
    {
     "name": "stdout",
     "output_type": "stream",
     "text": [
      "[0.27692308]\n"
     ]
    }
   ],
   "source": [
    "input_3=[0,0.5,0,0,0,0.4,0,1,0,1,0.2,0,0.5,0, 0, 0,  1 ]\n",
    "outputs = model.predict(input_3)\n",
    "print(outputs)"
   ]
  },
  {
   "cell_type": "code",
   "execution_count": null,
   "id": "a1ed8c2a",
   "metadata": {},
   "outputs": [],
   "source": []
  }
 ],
 "metadata": {
  "kernelspec": {
   "display_name": "Python 3 (ipykernel)",
   "language": "python",
   "name": "python3"
  },
  "language_info": {
   "codemirror_mode": {
    "name": "ipython",
    "version": 3
   },
   "file_extension": ".py",
   "mimetype": "text/x-python",
   "name": "python",
   "nbconvert_exporter": "python",
   "pygments_lexer": "ipython3",
   "version": "3.9.13"
  }
 },
 "nbformat": 4,
 "nbformat_minor": 5
}
