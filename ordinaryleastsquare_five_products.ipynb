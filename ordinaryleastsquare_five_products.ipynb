{
 "cells": [
  {
   "attachments": {
    "lambdatheta.jpg": {
     "image/jpeg": "[encoded data removed]"
    }
   },
   "cell_type": "markdown",
   "id": "db8b5cd7",
   "metadata": {},
   "source": [
    "![lambdatheta.jpg](attachment:lambdatheta.jpg)"
   ]
  },
  {
   "cell_type": "code",
   "execution_count": 16,
   "id": "942af3bb",
   "metadata": {},
   "outputs": [],
   "source": [
    "import pandas as pd\n",
    "import numpy as np\n",
    "import statsmodels.api as sm\n",
    "import matplotlib.pyplot as plt"
   ]
  },
  {
   "cell_type": "code",
   "execution_count": 17,
   "id": "561ea53d",
   "metadata": {},
   "outputs": [],
   "source": [
    "df=pd.read_csv(r\"dataset_five.csv\")"
   ]
  },
  {
   "cell_type": "code",
   "execution_count": 18,
   "id": "bbc29dec",
   "metadata": {},
   "outputs": [
    {
     "data": {
      "text/plain": [
       "0     Cold Drinks\n",
       "1     Cold Drinks\n",
       "2     Cold Drinks\n",
       "3     Cold Drinks\n",
       "4     Cold Drinks\n",
       "5     Cold Drinks\n",
       "6     Cold Drinks\n",
       "7     Cold Drinks\n",
       "8     Cold Drinks\n",
       "9     Cold Drinks\n",
       "10          Sugar\n",
       "11          Sugar\n",
       "12          Sugar\n",
       "13          Sugar\n",
       "14          Sugar\n",
       "15          Sugar\n",
       "16          Sugar\n",
       "17          Sugar\n",
       "18          Sugar\n",
       "19          Sugar\n",
       "20     Medicines \n",
       "21     Medicines \n",
       "22     Medicines \n",
       "23     Medicines \n",
       "24     Medicines \n",
       "25     Medicines \n",
       "26     Medicines \n",
       "27     Medicines \n",
       "28     Medicines \n",
       "29     Medicines \n",
       "30           Milk\n",
       "31           Milk\n",
       "32           Milk\n",
       "33           Milk\n",
       "34           Milk\n",
       "35           Milk\n",
       "36           Milk\n",
       "37           Milk\n",
       "38           Milk\n",
       "39           Milk\n",
       "40        candies\n",
       "41        candies\n",
       "42        candies\n",
       "43        candies\n",
       "44        candies\n",
       "45        candies\n",
       "46        candies\n",
       "47        candies\n",
       "48        candies\n",
       "49        candies\n",
       "Name: Product, dtype: object"
      ]
     },
     "execution_count": 18,
     "metadata": {},
     "output_type": "execute_result"
    }
   ],
   "source": [
    "df[\"Product\"]"
   ]
  },
  {
   "cell_type": "code",
   "execution_count": 19,
   "id": "0e070207",
   "metadata": {},
   "outputs": [],
   "source": [
    "df = pd.get_dummies(df, columns=['Product'], drop_first=False)"
   ]
  },
  {
   "cell_type": "code",
   "execution_count": 20,
   "id": "4c59099d",
   "metadata": {},
   "outputs": [],
   "source": [
    "y = df['Output']\n",
    "X = df.drop('Output', axis=1)"
   ]
  },
  {
   "cell_type": "code",
   "execution_count": 21,
   "id": "1c50c0ab",
   "metadata": {},
   "outputs": [
    {
     "data": {
      "text/plain": [
       "Index(['Season', 'Location', 'Competetion_in_Market', 'Marketing',\n",
       "       'Consumer_Bahviour', 'Discounted_price', 'Product_Quality',\n",
       "       'Product_Availability', 'Probabilty_of_sale', 'Recession',\n",
       "       'Self_location', 'No_of_shelf', 'Essential_product',\n",
       "       'Product_Cold Drinks', 'Product_Medicines ', 'Product_Milk',\n",
       "       'Product_Sugar', 'Product_candies'],\n",
       "      dtype='object')"
      ]
     },
     "execution_count": 21,
     "metadata": {},
     "output_type": "execute_result"
    }
   ],
   "source": [
    "X.columns"
   ]
  },
  {
   "cell_type": "code",
   "execution_count": 22,
   "id": "e38f0af5",
   "metadata": {},
   "outputs": [
    {
     "data": {
      "text/plain": [
       "<bound method NDFrame.head of     Season  Location  Competetion_in_Market  Marketing  Consumer_Bahviour  \\\n",
       "0        1       1.0                      1          1                  0   \n",
       "1        0       0.5                      1          1                  0   \n",
       "2        1       0.0                      1          1                  0   \n",
       "3        1       1.0                      1          1                  0   \n",
       "4        1       1.0                      1          1                  1   \n",
       "5        1       1.0                      1          1                  1   \n",
       "6        0       0.5                      0          1                  1   \n",
       "7        1       1.0                      1          0                  1   \n",
       "8        0       0.5                      1          1                  1   \n",
       "9        1       0.0                      1          1                  0   \n",
       "10       1       0.0                      1          1                  1   \n",
       "11       1       0.0                      1          0                  1   \n",
       "12       0       0.0                      1          1                  1   \n",
       "13       0       0.5                      1          1                  1   \n",
       "14       0       0.5                      1          0                  1   \n",
       "15       0       1.0                      1          0                  1   \n",
       "16       0       1.0                      1          1                  1   \n",
       "17       0       1.0                      1          1                  1   \n",
       "18       1       1.0                      1          1                  1   \n",
       "19       0       1.0                      1          0                  1   \n",
       "20       1       1.0                      1          1                  1   \n",
       "21       1       1.0                      1          0                  1   \n",
       "22       0       1.0                      1          1                  1   \n",
       "23       0       0.5                      1          1                  1   \n",
       "24       1       0.5                      1          1                  1   \n",
       "25       1       0.0                      0          1                  1   \n",
       "26       1       0.5                      1          0                  1   \n",
       "27       0       0.5                      1          0                  0   \n",
       "28       1       1.0                      1          0                  0   \n",
       "29       1       0.0                      1          0                  0   \n",
       "30       1       1.0                      0          1                  1   \n",
       "31       1       0.5                      1          1                  1   \n",
       "32       0       0.5                      1          1                  1   \n",
       "33       1       0.5                      1          0                  1   \n",
       "34       0       1.0                      1          1                  0   \n",
       "35       1       1.0                      1          1                  0   \n",
       "36       1       1.0                      1          0                  0   \n",
       "37       1       1.0                      1          0                  0   \n",
       "38       1       0.0                      1          1                  1   \n",
       "39       0       0.0                      0          1                  1   \n",
       "40       1       0.0                      1          1                  0   \n",
       "41       1       0.0                      1          1                  0   \n",
       "42       1       0.0                      1          1                  0   \n",
       "43       0       1.0                      1          0                  0   \n",
       "44       0       1.0                      0          0                  1   \n",
       "45       1       1.0                      0          0                  1   \n",
       "46       1       0.5                      0          1                  1   \n",
       "47       0       0.5                      1          1                  1   \n",
       "48       0       0.5                      1          1                  0   \n",
       "49       0       0.5                      1          0                  0   \n",
       "\n",
       "    Discounted_price  Product_Quality  Product_Availability  \\\n",
       "0                0.5                1                   1.0   \n",
       "1                0.1                1                   1.0   \n",
       "2                0.2                1                   1.0   \n",
       "3                0.4                1                   1.0   \n",
       "4                0.3                1                   1.0   \n",
       "5                0.2                1                   1.0   \n",
       "6                0.1                1                   1.0   \n",
       "7                0.0                1                   1.0   \n",
       "8                0.3                1                   1.0   \n",
       "9                0.2                1                   1.0   \n",
       "10               0.5                1                   1.0   \n",
       "11               0.1                1                   1.0   \n",
       "12               0.2                0                   1.0   \n",
       "13               0.4                0                   0.5   \n",
       "14               0.3                0                   1.0   \n",
       "15               0.2                0                   1.0   \n",
       "16               0.1                0                   0.5   \n",
       "17               0.0                0                   1.0   \n",
       "18               0.3                0                   1.0   \n",
       "19               0.2                0                   1.0   \n",
       "20               0.3                1                   1.0   \n",
       "21               0.5                1                   1.0   \n",
       "22               0.4                1                   1.0   \n",
       "23               0.1                1                   1.0   \n",
       "24               0.2                1                   0.0   \n",
       "25               0.0                1                   1.0   \n",
       "26               0.0                0                   1.0   \n",
       "27               0.2                0                   1.0   \n",
       "28               0.4                0                   0.0   \n",
       "29               0.4                0                   1.0   \n",
       "30               0.4                1                   1.0   \n",
       "31               0.4                1                   1.0   \n",
       "32               0.4                1                   1.0   \n",
       "33               0.3                1                   1.0   \n",
       "34               0.3                1                   0.0   \n",
       "35               0.3                1                   0.0   \n",
       "36               0.2                1                   0.0   \n",
       "37               0.2                0                   0.0   \n",
       "38               0.2                0                   1.0   \n",
       "39               0.4                0                   1.0   \n",
       "40               0.0                1                   1.0   \n",
       "41               0.4                1                   0.0   \n",
       "42               0.4                1                   1.0   \n",
       "43               0.1                1                   1.0   \n",
       "44               0.4                0                   1.0   \n",
       "45               0.4                0                   0.0   \n",
       "46               0.2                0                   1.0   \n",
       "47               0.3                0                   0.0   \n",
       "48               0.3                1                   0.5   \n",
       "49               0.2                1                   1.0   \n",
       "\n",
       "    Probabilty_of_sale  Recession  Self_location  No_of_shelf  \\\n",
       "0                    1          1            1.0          0.3   \n",
       "1                    0          1            1.0          0.1   \n",
       "2                    0          1            1.0          0.2   \n",
       "3                    0          1            0.5          0.4   \n",
       "4                    1          1            0.0          0.2   \n",
       "5                    1          0            0.5          0.1   \n",
       "6                    1          1            0.0          0.3   \n",
       "7                    1          1            0.0          0.1   \n",
       "8                    1          1            1.0          0.2   \n",
       "9                    0          1            0.0          0.4   \n",
       "10                   1          1            1.0          0.1   \n",
       "11                   1          1            0.0          0.3   \n",
       "12                   1          1            0.0          0.4   \n",
       "13                   1          0            1.0          0.4   \n",
       "14                   0          1            0.0          0.2   \n",
       "15                   1          1            1.0          0.1   \n",
       "16                   1          1            0.0          0.2   \n",
       "17                   1          1            1.0          0.3   \n",
       "18                   1          1            0.5          0.2   \n",
       "19                   1          0            0.0          0.3   \n",
       "20                   1          0            0.0          0.1   \n",
       "21                   1          0            1.0          0.4   \n",
       "22                   1          1            0.0          0.4   \n",
       "23                   1          1            1.0          0.2   \n",
       "24                   1          0            1.0          0.3   \n",
       "25                   1          1            0.0          0.1   \n",
       "26                   0          1            0.5          0.2   \n",
       "27                   1          1            1.0          0.1   \n",
       "28                   1          1            0.5          0.1   \n",
       "29                   1          1            1.0          0.2   \n",
       "30                   1          0            1.0          0.4   \n",
       "31                   1          1            0.5          0.4   \n",
       "32                   1          1            0.5          0.4   \n",
       "33                   1          0            1.0          0.1   \n",
       "34                   0          1            0.0          0.4   \n",
       "35                   0          1            1.0          0.2   \n",
       "36                   1          0            0.0          0.1   \n",
       "37                   1          1            0.0          0.2   \n",
       "38                   1          1            1.0          0.1   \n",
       "39                   1          1            0.0          0.3   \n",
       "40                   1          1            0.5          0.4   \n",
       "41                   1          0            1.0          0.1   \n",
       "42                   1          1            0.0          0.2   \n",
       "43                   1          0            1.0          0.4   \n",
       "44                   1          1            0.0          0.3   \n",
       "45                   0          1            0.5          0.2   \n",
       "46                   0          1            0.0          0.1   \n",
       "47                   1          0            1.0          0.2   \n",
       "48                   1          1            0.5          0.3   \n",
       "49                   0          0            1.0          0.4   \n",
       "\n",
       "    Essential_product  Product_Cold Drinks  Product_Medicines   Product_Milk  \\\n",
       "0                 1.0                    1                   0             0   \n",
       "1                 0.0                    1                   0             0   \n",
       "2                 0.0                    1                   0             0   \n",
       "3                 0.0                    1                   0             0   \n",
       "4                 0.0                    1                   0             0   \n",
       "5                 0.5                    1                   0             0   \n",
       "6                 1.0                    1                   0             0   \n",
       "7                 0.5                    1                   0             0   \n",
       "8                 0.5                    1                   0             0   \n",
       "9                 0.5                    1                   0             0   \n",
       "10                0.5                    0                   0             0   \n",
       "11                0.0                    0                   0             0   \n",
       "12                0.0                    0                   0             0   \n",
       "13                1.0                    0                   0             0   \n",
       "14                0.0                    0                   0             0   \n",
       "15                0.0                    0                   0             0   \n",
       "16                0.5                    0                   0             0   \n",
       "17                0.0                    0                   0             0   \n",
       "18                0.0                    0                   0             0   \n",
       "19                1.0                    0                   0             0   \n",
       "20                0.5                    0                   1             0   \n",
       "21                0.5                    0                   1             0   \n",
       "22                1.0                    0                   1             0   \n",
       "23                0.5                    0                   1             0   \n",
       "24                1.0                    0                   1             0   \n",
       "25                0.5                    0                   1             0   \n",
       "26                0.0                    0                   1             0   \n",
       "27                1.0                    0                   1             0   \n",
       "28                0.0                    0                   1             0   \n",
       "29                0.5                    0                   1             0   \n",
       "30                1.0                    0                   0             1   \n",
       "31                0.5                    0                   0             1   \n",
       "32                1.0                    0                   0             1   \n",
       "33                0.5                    0                   0             1   \n",
       "34                1.0                    0                   0             1   \n",
       "35                0.5                    0                   0             1   \n",
       "36                0.5                    0                   0             1   \n",
       "37                1.0                    0                   0             1   \n",
       "38                0.0                    0                   0             1   \n",
       "39                0.5                    0                   0             1   \n",
       "40                1.0                    0                   0             0   \n",
       "41                0.5                    0                   0             0   \n",
       "42                0.0                    0                   0             0   \n",
       "43                0.5                    0                   0             0   \n",
       "44                0.5                    0                   0             0   \n",
       "45                1.0                    0                   0             0   \n",
       "46                0.0                    0                   0             0   \n",
       "47                0.0                    0                   0             0   \n",
       "48                0.5                    0                   0             0   \n",
       "49                1.0                    0                   0             0   \n",
       "\n",
       "    Product_Sugar  Product_candies  \n",
       "0               0                0  \n",
       "1               0                0  \n",
       "2               0                0  \n",
       "3               0                0  \n",
       "4               0                0  \n",
       "5               0                0  \n",
       "6               0                0  \n",
       "7               0                0  \n",
       "8               0                0  \n",
       "9               0                0  \n",
       "10              1                0  \n",
       "11              1                0  \n",
       "12              1                0  \n",
       "13              1                0  \n",
       "14              1                0  \n",
       "15              1                0  \n",
       "16              1                0  \n",
       "17              1                0  \n",
       "18              1                0  \n",
       "19              1                0  \n",
       "20              0                0  \n",
       "21              0                0  \n",
       "22              0                0  \n",
       "23              0                0  \n",
       "24              0                0  \n",
       "25              0                0  \n",
       "26              0                0  \n",
       "27              0                0  \n",
       "28              0                0  \n",
       "29              0                0  \n",
       "30              0                0  \n",
       "31              0                0  \n",
       "32              0                0  \n",
       "33              0                0  \n",
       "34              0                0  \n",
       "35              0                0  \n",
       "36              0                0  \n",
       "37              0                0  \n",
       "38              0                0  \n",
       "39              0                0  \n",
       "40              0                1  \n",
       "41              0                1  \n",
       "42              0                1  \n",
       "43              0                1  \n",
       "44              0                1  \n",
       "45              0                1  \n",
       "46              0                1  \n",
       "47              0                1  \n",
       "48              0                1  \n",
       "49              0                1  >"
      ]
     },
     "execution_count": 22,
     "metadata": {},
     "output_type": "execute_result"
    }
   ],
   "source": [
    "X.head"
   ]
  },
  {
   "cell_type": "code",
   "execution_count": 41,
   "id": "42f39c4a",
   "metadata": {},
   "outputs": [
    {
     "name": "stdout",
     "output_type": "stream",
     "text": [
      "                            OLS Regression Results                            \n",
      "==============================================================================\n",
      "Dep. Variable:                 Output   R-squared:                       1.000\n",
      "Model:                            OLS   Adj. R-squared:                  1.000\n",
      "Method:                 Least Squares   F-statistic:                 3.616e+17\n",
      "Date:                Sun, 12 Feb 2023   Prob (F-statistic):          1.25e-271\n",
      "Time:                        15:42:53   Log-Likelihood:                 1034.9\n",
      "No. Observations:                  50   AIC:                            -2034.\n",
      "Df Residuals:                      32   BIC:                            -1999.\n",
      "Df Model:                          17                                         \n",
      "Covariance Type:            nonrobust                                         \n",
      "=========================================================================================\n",
      "                            coef    std err          t      P>|t|      [0.025      0.975]\n",
      "-----------------------------------------------------------------------------------------\n",
      "Season                    0.0769   1.07e-10   7.21e+08      0.000       0.077       0.077\n",
      "Location                  0.0769   1.28e-10      6e+08      0.000       0.077       0.077\n",
      "Competetion_in_Market     0.0769   1.75e-10   4.41e+08      0.000       0.077       0.077\n",
      "Marketing                 0.0769   1.15e-10   6.71e+08      0.000       0.077       0.077\n",
      "Consumer_Bahviour         0.0769   1.33e-10   5.79e+08      0.000       0.077       0.077\n",
      "Discounted_price          0.0769   3.43e-10   2.24e+08      0.000       0.077       0.077\n",
      "Product_Quality           0.0769   1.32e-10   5.84e+08      0.000       0.077       0.077\n",
      "Product_Availability      0.0769   1.51e-10    5.1e+08      0.000       0.077       0.077\n",
      "Probabilty_of_sale        0.0769   1.23e-10   6.23e+08      0.000       0.077       0.077\n",
      "Recession                 0.0769   1.26e-10   6.11e+08      0.000       0.077       0.077\n",
      "Self_location             0.0769   1.12e-10   6.85e+08      0.000       0.077       0.077\n",
      "No_of_shelf               0.0769   4.87e-10   1.58e+08      0.000       0.077       0.077\n",
      "Essential_product         0.0769   1.53e-10   5.02e+08      0.000       0.077       0.077\n",
      "Product_Cold Drinks   -3.313e-11   3.68e-10     -0.090      0.929   -7.83e-10    7.16e-10\n",
      "Product_Medicines     -3.667e-11   3.56e-10     -0.103      0.919   -7.63e-10    6.89e-10\n",
      "Product_Milk          -2.575e-10   3.47e-10     -0.742      0.463   -9.64e-10    4.49e-10\n",
      "Product_Sugar         -8.761e-11   3.73e-10     -0.235      0.816   -8.47e-10    6.72e-10\n",
      "Product_candies        -1.64e-11   2.99e-10     -0.055      0.957   -6.26e-10    5.93e-10\n",
      "==============================================================================\n",
      "Omnibus:                        3.317   Durbin-Watson:                   1.997\n",
      "Prob(Omnibus):                  0.190   Jarque-Bera (JB):                1.830\n",
      "Skew:                           0.181   Prob(JB):                        0.400\n",
      "Kurtosis:                       2.135   Cond. No.                         40.8\n",
      "==============================================================================\n",
      "\n",
      "Notes:\n",
      "[1] Standard Errors assume that the covariance matrix of the errors is correctly specified.\n"
     ]
    }
   ],
   "source": [
    "model_ = sm.OLS(y, X).fit()\n",
    "\n",
    "print(model_.summary())\n"
   ]
  },
  {
   "cell_type": "markdown",
   "id": "f15c02d6",
   "metadata": {},
   "source": [
    "# Model ouput summary"
   ]
  },
  {
   "cell_type": "markdown",
   "id": "b02e773f",
   "metadata": {},
   "source": [
    "The OLS (Ordinary Least Squares) Regression Results are a summary of a statistical model. The model is used to estimate the relationship between the dependent variable (Output) and several independent variables (Season, Location, Competetion_in_Market, Marketing, Consumer_Bahviour, Discounted_price, Product_Quality, Product_Availability, Probabilty_of_sale, Recession, Self_location, No_of_shelf, Essential_product, Product_Medicines, Product_Milk, Product_Sugar, Product_candies).\n",
    "\n",
    "The R-squared (uncentered) value is 1.000, which indicates that the independent variables in the model explain 100% of the variation in the dependent variable. The adjusted R-squared is also 1.000, which means that all the independent variables are significant predictors of the dependent variable.\n",
    "\n",
    "The F-statistic value of 1.164e+19 and a probability of 7.58e-305 indicate that the overall model is statistically significant. This means that at least one of the independent variables is related to the dependent variable.\n",
    "\n",
    "The log-likelihood value of 1034.9, the AIC (Akaike Information Criterion) value of -2036, and the BIC (Bayesian Information Criterion) value of -2003 are measures of goodness of fit of the model. A lower AIC and BIC value indicates a better fit of the model.\n",
    "\n",
    "The coef column shows the estimated coefficients of the independent variables in the model. The std err column shows the standard error of the coefficients. The t-value column shows the t-statistic of each coefficient, which is a measure of the significance of each coefficient. The p>|t| column shows the p-value of each coefficient, which indicates the level of significance. The [0.025, 0.975] column gives the 95% confidence interval for each coefficient, which shows the range of values that the true coefficient is likely to fall in.\n",
    "\n",
    "The Omnibus value of 3.270 and a probability of 0.195 indicate that the residuals are not normally distributed. The Jarque-Bera (JB) value of 1.832 and a probability of 0.400 indicate that the residuals have a normal distribution. The Skew and Kurtosis values of 0.188 and 2.141, respectively, give additional information about the shape of the distribution of the residuals. The Cond. No. (Condition Number) of 27.0 gives an indication of the multicollinearity in the model, with higher values indicating higher levels of multicollinearity."
   ]
  },
  {
   "cell_type": "markdown",
   "id": "aa006eb8",
   "metadata": {},
   "source": [
    "# Testing with different input features"
   ]
  },
  {
   "cell_type": "markdown",
   "id": "9219aa50",
   "metadata": {},
   "source": [
    "model output for milk product\n"
   ]
  },
  {
   "cell_type": "code",
   "execution_count": 42,
   "id": "007ba34f",
   "metadata": {
    "scrolled": true
   },
   "outputs": [
    {
     "name": "stdout",
     "output_type": "stream",
     "text": [
      "[0.55384615]\n"
     ]
    }
   ],
   "source": [
    "\n",
    "input_2=[1,  0, 1, 0, 0,  0.2, 1, 1 , 1, 1, 0 ,0, 1, 0, 1 ,0,  0 ,0]\n",
    "outputs = model_.predict(input_2)\n",
    "print(outputs)\n"
   ]
  },
  {
   "cell_type": "markdown",
   "id": "d1823f78",
   "metadata": {},
   "source": [
    "model output for candy product"
   ]
  },
  {
   "cell_type": "code",
   "execution_count": 43,
   "id": "5e96d32c",
   "metadata": {},
   "outputs": [
    {
     "name": "stdout",
     "output_type": "stream",
     "text": [
      "[0.27692308]\n"
     ]
    }
   ],
   "source": [
    "input_3=[0,0.5,0,0,0,0.4,0,1,0,1,0.2,0,0.5,0, 0, 0,  1,0 ]\n",
    "outputs = model_.predict(input_3)\n",
    "print(outputs)"
   ]
  },
  {
   "cell_type": "markdown",
   "id": "5bd3c0ea",
   "metadata": {},
   "source": [
    "# OCR TOOL"
   ]
  },
  {
   "cell_type": "code",
   "execution_count": 44,
   "id": "0d8330d3",
   "metadata": {},
   "outputs": [
    {
     "name": "stdout",
     "output_type": "stream",
     "text": [
      "Requirement already satisfied: ortools in c:\\anconda\\envs\\newenvir\\lib\\site-packages (9.5.2237)\n",
      "Requirement already satisfied: absl-py>=0.13 in c:\\anconda\\envs\\newenvir\\lib\\site-packages (from ortools) (0.15.0)\n",
      "Requirement already satisfied: numpy>=1.13.3 in c:\\anconda\\envs\\newenvir\\lib\\site-packages (from ortools) (1.21.5)\n",
      "Requirement already satisfied: protobuf>=4.21.5 in c:\\anconda\\envs\\newenvir\\lib\\site-packages (from ortools) (4.21.12)\n",
      "Requirement already satisfied: six in c:\\anconda\\envs\\newenvir\\lib\\site-packages (from absl-py>=0.13->ortools) (1.16.0)\n",
      "Note: you may need to restart the kernel to use updated packages.\n"
     ]
    }
   ],
   "source": [
    "pip install ortools"
   ]
  },
  {
   "cell_type": "code",
   "execution_count": 45,
   "id": "004a3f5e",
   "metadata": {},
   "outputs": [],
   "source": [
    "import pandas as pd\n",
    "from ortools.sat.python import cp_model\n",
    "import random"
   ]
  },
  {
   "cell_type": "code",
   "execution_count": 46,
   "id": "8ddd90f1",
   "metadata": {},
   "outputs": [
    {
     "name": "stdout",
     "output_type": "stream",
     "text": [
      "product 0: 1.0\n",
      "product 1: 0.62\n",
      "product 2: 0.8800000000000001\n",
      "product 3: 0.95\n",
      "product 4: 0.33\n",
      "Customer: 0 buys product: 0 at cost: 10 with customer prob: 0.46 and product prob: 1.00\n",
      "Customer: 0 buys product: 1 at cost: 15 with customer prob: 0.46 and product prob: 0.82\n",
      "Customer: 0 buys product: 2 at cost: 20 with customer prob: 0.46 and product prob: 0.88\n",
      "Customer: 0 buys product: 3 at cost: 25 with customer prob: 0.46 and product prob: 0.95\n",
      "Customer: 0 buys product: 4 at cost: 30 with customer prob: 0.46 and product prob: 0.53\n",
      "Customer: 1 buys product: 0 at cost: 10 with customer prob: 0.03 and product prob: 1.00\n",
      "Customer: 1 buys product: 1 at cost: 15 with customer prob: 0.03 and product prob: 0.82\n",
      "Customer: 1 buys product: 2 at cost: 20 with customer prob: 0.03 and product prob: 0.88\n",
      "Customer: 1 buys product: 3 at cost: 25 with customer prob: 0.03 and product prob: 0.95\n",
      "Customer: 1 buys product: 4 at cost: 30 with customer prob: 0.03 and product prob: 0.53\n",
      "Customer: 2 buys product: 0 at cost: 10 with customer prob: 0.87 and product prob: 1.00\n",
      "Customer: 2 buys product: 2 at cost: 20 with customer prob: 0.87 and product prob: 0.88\n",
      "Customer: 2 buys product: 3 at cost: 25 with customer prob: 0.87 and product prob: 0.95\n",
      "Customer: 3 buys product: 0 at cost: 10 with customer prob: 0.21 and product prob: 1.00\n",
      "Customer: 3 buys product: 1 at cost: 15 with customer prob: 0.21 and product prob: 0.82\n",
      "Customer: 3 buys product: 2 at cost: 20 with customer prob: 0.21 and product prob: 0.88\n",
      "Customer: 3 buys product: 3 at cost: 25 with customer prob: 0.21 and product prob: 0.95\n",
      "Customer: 3 buys product: 4 at cost: 30 with customer prob: 0.21 and product prob: 0.53\n",
      "Customer: 4 buys product: 0 at cost: 10 with customer prob: 0.36 and product prob: 1.00\n",
      "Customer: 4 buys product: 1 at cost: 15 with customer prob: 0.36 and product prob: 0.82\n",
      "Customer: 4 buys product: 2 at cost: 20 with customer prob: 0.36 and product prob: 0.88\n",
      "Customer: 4 buys product: 3 at cost: 25 with customer prob: 0.36 and product prob: 0.95\n",
      "Customer: 4 buys product: 4 at cost: 30 with customer prob: 0.36 and product prob: 0.53\n",
      "Customer: 5 buys product: 0 at cost: 10 with customer prob: 0.25 and product prob: 1.00\n",
      "Customer: 5 buys product: 1 at cost: 15 with customer prob: 0.25 and product prob: 0.82\n",
      "Customer: 5 buys product: 2 at cost: 20 with customer prob: 0.25 and product prob: 0.88\n",
      "Customer: 5 buys product: 3 at cost: 25 with customer prob: 0.25 and product prob: 0.95\n",
      "Customer: 5 buys product: 4 at cost: 30 with customer prob: 0.25 and product prob: 0.53\n",
      "Customer: 6 buys product: 0 at cost: 10 with customer prob: 0.27 and product prob: 1.00\n",
      "Customer: 6 buys product: 1 at cost: 15 with customer prob: 0.27 and product prob: 0.82\n",
      "Customer: 6 buys product: 2 at cost: 20 with customer prob: 0.27 and product prob: 0.88\n",
      "Customer: 6 buys product: 3 at cost: 25 with customer prob: 0.27 and product prob: 0.95\n",
      "Customer: 6 buys product: 4 at cost: 30 with customer prob: 0.27 and product prob: 0.53\n",
      "Customer: 7 buys product: 0 at cost: 10 with customer prob: 0.66 and product prob: 1.00\n",
      "Customer: 7 buys product: 1 at cost: 15 with customer prob: 0.66 and product prob: 0.82\n",
      "Customer: 7 buys product: 2 at cost: 20 with customer prob: 0.66 and product prob: 0.88\n",
      "Customer: 7 buys product: 3 at cost: 25 with customer prob: 0.66 and product prob: 0.95\n",
      "Customer: 8 buys product: 0 at cost: 10 with customer prob: 0.15 and product prob: 1.00\n",
      "Customer: 8 buys product: 1 at cost: 15 with customer prob: 0.15 and product prob: 0.82\n",
      "Customer: 8 buys product: 2 at cost: 20 with customer prob: 0.15 and product prob: 0.88\n",
      "Customer: 8 buys product: 3 at cost: 25 with customer prob: 0.15 and product prob: 0.95\n",
      "Customer: 8 buys product: 4 at cost: 30 with customer prob: 0.15 and product prob: 0.53\n",
      "Customer: 9 buys product: 0 at cost: 10 with customer prob: 0.01 and product prob: 1.00\n",
      "Customer: 9 buys product: 1 at cost: 15 with customer prob: 0.01 and product prob: 0.82\n",
      "Customer: 9 buys product: 2 at cost: 20 with customer prob: 0.01 and product prob: 0.88\n",
      "Customer: 9 buys product: 3 at cost: 25 with customer prob: 0.01 and product prob: 0.95\n",
      "Customer: 9 buys product: 4 at cost: 30 with customer prob: 0.01 and product prob: 0.53\n",
      "Customer: 10 buys product: 0 at cost: 10 with customer prob: 0.19 and product prob: 1.00\n",
      "Customer: 10 buys product: 1 at cost: 15 with customer prob: 0.19 and product prob: 0.82\n",
      "Customer: 10 buys product: 2 at cost: 20 with customer prob: 0.19 and product prob: 0.88\n",
      "Customer: 10 buys product: 3 at cost: 25 with customer prob: 0.19 and product prob: 0.95\n",
      "Customer: 10 buys product: 4 at cost: 30 with customer prob: 0.19 and product prob: 0.53\n",
      "Customer: 11 buys product: 0 at cost: 10 with customer prob: 0.44 and product prob: 1.00\n",
      "Customer: 11 buys product: 1 at cost: 15 with customer prob: 0.44 and product prob: 0.82\n",
      "Customer: 11 buys product: 2 at cost: 20 with customer prob: 0.44 and product prob: 0.88\n",
      "Customer: 11 buys product: 3 at cost: 25 with customer prob: 0.44 and product prob: 0.95\n",
      "Customer: 11 buys product: 4 at cost: 30 with customer prob: 0.44 and product prob: 0.53\n",
      "Customer: 12 buys product: 0 at cost: 10 with customer prob: 0.54 and product prob: 1.00\n",
      "Customer: 12 buys product: 1 at cost: 15 with customer prob: 0.54 and product prob: 0.82\n",
      "Customer: 12 buys product: 2 at cost: 20 with customer prob: 0.54 and product prob: 0.88\n",
      "Customer: 12 buys product: 3 at cost: 25 with customer prob: 0.54 and product prob: 0.95\n",
      "Customer: 13 buys product: 0 at cost: 10 with customer prob: 0.06 and product prob: 1.00\n",
      "Customer: 13 buys product: 1 at cost: 15 with customer prob: 0.06 and product prob: 0.82\n",
      "Customer: 13 buys product: 2 at cost: 20 with customer prob: 0.06 and product prob: 0.88\n",
      "Customer: 13 buys product: 3 at cost: 25 with customer prob: 0.06 and product prob: 0.95\n",
      "Customer: 13 buys product: 4 at cost: 30 with customer prob: 0.06 and product prob: 0.53\n",
      "Customer: 14 buys product: 0 at cost: 10 with customer prob: 0.49 and product prob: 1.00\n",
      "Customer: 14 buys product: 1 at cost: 15 with customer prob: 0.49 and product prob: 0.82\n",
      "Customer: 14 buys product: 2 at cost: 20 with customer prob: 0.49 and product prob: 0.88\n",
      "Customer: 14 buys product: 3 at cost: 25 with customer prob: 0.49 and product prob: 0.95\n",
      "Customer: 14 buys product: 4 at cost: 30 with customer prob: 0.49 and product prob: 0.53\n",
      "Customer: 15 buys product: 0 at cost: 10 with customer prob: 0.46 and product prob: 1.00\n",
      "Customer: 15 buys product: 1 at cost: 15 with customer prob: 0.46 and product prob: 0.82\n",
      "Customer: 15 buys product: 2 at cost: 20 with customer prob: 0.46 and product prob: 0.88\n",
      "Customer: 15 buys product: 3 at cost: 25 with customer prob: 0.46 and product prob: 0.95\n",
      "Customer: 15 buys product: 4 at cost: 30 with customer prob: 0.46 and product prob: 0.53\n",
      "Customer: 16 buys product: 0 at cost: 10 with customer prob: 0.86 and product prob: 1.00\n",
      "Customer: 16 buys product: 2 at cost: 20 with customer prob: 0.86 and product prob: 0.88\n",
      "Customer: 16 buys product: 3 at cost: 25 with customer prob: 0.86 and product prob: 0.95\n",
      "Customer: 17 buys product: 0 at cost: 10 with customer prob: 0.74 and product prob: 1.00\n",
      "Customer: 17 buys product: 1 at cost: 15 with customer prob: 0.74 and product prob: 0.82\n",
      "Customer: 17 buys product: 2 at cost: 20 with customer prob: 0.74 and product prob: 0.88\n",
      "Customer: 17 buys product: 3 at cost: 25 with customer prob: 0.74 and product prob: 0.95\n",
      "Customer: 18 buys product: 0 at cost: 10 with customer prob: 0.19 and product prob: 1.00\n",
      "Customer: 18 buys product: 1 at cost: 15 with customer prob: 0.19 and product prob: 0.82\n",
      "Customer: 18 buys product: 2 at cost: 20 with customer prob: 0.19 and product prob: 0.88\n",
      "Customer: 18 buys product: 3 at cost: 25 with customer prob: 0.19 and product prob: 0.95\n",
      "Customer: 18 buys product: 4 at cost: 30 with customer prob: 0.19 and product prob: 0.53\n",
      "Customer: 19 buys product: 0 at cost: 10 with customer prob: 0.13 and product prob: 1.00\n",
      "Customer: 19 buys product: 1 at cost: 15 with customer prob: 0.13 and product prob: 0.82\n",
      "Customer: 19 buys product: 2 at cost: 20 with customer prob: 0.13 and product prob: 0.88\n",
      "Customer: 19 buys product: 3 at cost: 25 with customer prob: 0.13 and product prob: 0.95\n",
      "Customer: 19 buys product: 4 at cost: 30 with customer prob: 0.13 and product prob: 0.53\n",
      "Ads assigned to Products: 1 4 \n",
      "1.0 0.62 0.8800000000000001 0.95 0.33 \n",
      "1.0 0.82 0.88 0.95 0.53 \n",
      "[1.0, 0.8200000000000001, 0.8800000000000001, 0.95, 0.53]\n",
      "[0, 1, 0, 0, 1]\n",
      "['Cold Drinks', 1, 1.0, 1, 0, 0, 0.5, 1, 1, 1, 1, 1.0, 0.3, 8, 10, 1.0, 1.0]\n",
      "['Sugar', 1, 0.0, 1, 1, 1, 0.5, 1, 1, 1, 1, 1.0, 0.1, 10, 15, 0.8200000000000001, 0.5]\n",
      "['Medicines ', 0, 1.0, 1, 0, 1, 0.4, 1, 1, 1, 1, 0.0, 0.4, 15, 20, 0.8800000000000001, 1.0]\n",
      "['Milk', 1, 0.5, 1, 0, 1, 0.4, 1, 1, 1, 1, 0.5, 0.4, 22, 25, 0.95, 0.5]\n",
      "['candies', 1, 0.0, 1, 1, 0, 0.0, 1, 1, 1, 1, 0.5, 0.4, 24, 30, 0.53, 1.0]\n"
     ]
    }
   ],
   "source": [
    "df = pd.read_csv(\"dataset_five_output.csv\")\n",
    "model = cp_model.CpModel()    \n",
    "product_costs = list(df[\"Product_cost\"])\n",
    "unit_cost = list(df[\"Unit_cost\"])\n",
    "customer_budgets = []\n",
    "for i in range(20):\n",
    "    customer_budgets.append(100)\n",
    "product_probs = list(df[\"Product_prob\"])\n",
    "#     print(\"product_probs\")\n",
    "for i, p in enumerate(product_probs):\n",
    "    print(f\"product {i}: {p}\")\n",
    "customer_probs = [0.46, 0.03, 0.87, 0.21, 0.36, 0.25, 0.27, 0.66, 0.15, 0.01, 0.19, 0.44, 0.54, 0.06,\n",
    "                  0.49, 0.46, 0.86, 0.74, 0.19, 0.13]\n",
    "#     print(customer_probs)\n",
    "#     print(\"customer_probs\")\n",
    "for i, c in enumerate(customer_probs):\n",
    "    pass\n",
    "#         print(f\"customer {i}: {c}\")\n",
    "\n",
    "customer_product = {}\n",
    "for c in range(20):\n",
    "    for p in range(len(product_costs)):\n",
    "        customer_product[(c, p)] = model.NewBoolVar('customer_%i_buys_product_%i' % (c, p))\n",
    "product_ads = {}\n",
    "for p in range(len(product_costs)):\n",
    "    product_ads[p] = model.NewBoolVar('product_%i_has_ads' % p)\n",
    "for c in range(20):\n",
    "    for p in range(len(product_costs)):\n",
    "        model.Add(customer_product[(c, p)] <= int(customer_probs[c] < product_probs[p])).OnlyEnforceIf(product_ads[p].Not())\n",
    "        model.Add(customer_product[(c, p)] <= int(customer_probs[c] < product_probs[p] + 0.2))\n",
    "\n",
    "model.Add(sum(product_ads[p] for p in range(len(product_costs))) <= 5)\n",
    "\n",
    "total_cost = sum(customer_product[(c, p)] * product_costs[p] for c in range(20) for p in range(len(product_costs)))\n",
    "\n",
    "total_profit = sum(customer_product[(c, p)] * (product_costs[p] - unit_cost[p]) for c in range(20) for p in range(len(product_costs)))\n",
    "\n",
    "for c in range(20):\n",
    "    model.Add(sum(customer_product[(c, p)] * product_costs[p] for p in range(len(product_costs))) <= customer_budgets[c])\n",
    "\n",
    "\n",
    "model.Maximize(total_profit)\n",
    "\n",
    "# Solve the model.\n",
    "solver = cp_model.CpSolver()\n",
    "solver.parameters.num_search_workers = 8\n",
    "solver.parameters.max_time_in_seconds = 10\n",
    "solver.parameters.log_search_progress = True\n",
    "solver.Solve(model)\n",
    "\n",
    "# Print the solution.\n",
    "#     print('Total Sales:', solver.ObjectiveValue())\n",
    "for c in range(20):\n",
    "    for p in range(len(product_costs)):\n",
    "        # customer who bought product\n",
    "        if solver.Value(customer_product[(c, p)]) == 1:\n",
    "            # products having ads\n",
    "            if solver.Value(product_ads[p]) == 1:\n",
    "                if product_probs[p] + 0.2 > 1.00:\n",
    "                    print('Customer: %i buys product: %i at cost: %i with customer prob: %.2f and product prob: %.2f' %\n",
    "                          (c, p, product_costs[p], customer_probs[c], 1.00))\n",
    "                else:\n",
    "                    print(\n",
    "                        'Customer: %i buys product: %i at cost: %i with customer prob: %.2f and product prob: %.2f' %\n",
    "                        (c, p, product_costs[p], customer_probs[c], product_probs[p]+0.2))\n",
    "            else:\n",
    "                print('Customer: %i buys product: %i at cost: %i with customer prob: %.2f and product prob: %.2f' %\n",
    "                      (c, p, product_costs[p], customer_probs[c], product_probs[p]))\n",
    "print('Ads assigned to Products:', end=' ')\n",
    "ads = [0 for _ in range(len(product_costs))]\n",
    "for p in range(len(product_costs)):\n",
    "    if solver.Value(product_ads[p]) == 1:\n",
    "        ads[p] = 1\n",
    "        print(p, end=' ')\n",
    "print()\n",
    "for p in range(len(product_costs)):\n",
    "    print(product_probs[p], end=' ')\n",
    "print()\n",
    "\n",
    "for p in range(len(product_costs)):\n",
    "    if solver.Value(product_ads[p]) == 1:\n",
    "        if product_probs[p] + 0.2 > 1.00:\n",
    "            product_probs[p] = 1.00\n",
    "        else:\n",
    "            product_probs[p] += 0.2\n",
    "    print(round(product_probs[p], 2), end=' ')\n",
    "print()\n",
    "print(product_probs)\n",
    "print(ads)\n",
    "df[\"Product_prob\"] = product_probs\n",
    "df[\"Marketing\"] = ads\n",
    "for i in range(len(product_costs)):\n",
    "    print(list(df.loc[i]))\n",
    "df.to_csv(\"dataset_five_output.csv\", index= False)\n"
   ]
  },
  {
   "cell_type": "code",
   "execution_count": 47,
   "id": "e39dad79",
   "metadata": {},
   "outputs": [],
   "source": [
    "dat=[]\n",
    "for i in range(len(product_costs)):\n",
    "#     print(list(df.loc[i])\n",
    "    dat.append(df.loc[i])"
   ]
  },
  {
   "cell_type": "code",
   "execution_count": 48,
   "id": "a124e4a8",
   "metadata": {},
   "outputs": [
    {
     "data": {
      "text/plain": [
       "Product                  Sugar\n",
       "Season                       1\n",
       "Location                   0.0\n",
       "Competetion_in_Market        1\n",
       "Marketing                    1\n",
       "Consumer_Bahviour            1\n",
       "Discounted_price           0.5\n",
       "Product_Quality              1\n",
       "Product_Availability         1\n",
       "Probabilty_of_sale           1\n",
       "Recession                    1\n",
       "Self_location              1.0\n",
       "No_of_shelf                0.1\n",
       "Unit_cost                   10\n",
       "Product_cost                15\n",
       "Product_prob              0.82\n",
       "Essential_product          0.5\n",
       "Name: 1, dtype: object"
      ]
     },
     "execution_count": 48,
     "metadata": {},
     "output_type": "execute_result"
    }
   ],
   "source": [
    "dat[1]"
   ]
  },
  {
   "cell_type": "markdown",
   "id": "94448fba",
   "metadata": {},
   "source": [
    "# testing"
   ]
  },
  {
   "cell_type": "code",
   "execution_count": 49,
   "id": "0cdf4551",
   "metadata": {},
   "outputs": [
    {
     "data": {
      "text/plain": [
       "Index(['Season', 'Location', 'Competetion_in_Market', 'Marketing',\n",
       "       'Consumer_Bahviour', 'Discounted_price', 'Product_Quality',\n",
       "       'Product_Availability', 'Probabilty_of_sale', 'Recession',\n",
       "       'Self_location', 'No_of_shelf', 'Essential_product',\n",
       "       'Product_Cold Drinks', 'Product_Medicines ', 'Product_Milk',\n",
       "       'Product_Sugar', 'Product_candies'],\n",
       "      dtype='object')"
      ]
     },
     "execution_count": 49,
     "metadata": {},
     "output_type": "execute_result"
    }
   ],
   "source": [
    "X.columns"
   ]
  },
  {
   "cell_type": "code",
   "execution_count": 50,
   "id": "242c13bd",
   "metadata": {},
   "outputs": [
    {
     "name": "stdout",
     "output_type": "stream",
     "text": [
      "18\n"
     ]
    }
   ],
   "source": [
    "print(len(X.columns))"
   ]
  },
  {
   "cell_type": "markdown",
   "id": "a440115a",
   "metadata": {},
   "source": [
    "1. prediction for colddrink"
   ]
  },
  {
   "cell_type": "code",
   "execution_count": 52,
   "id": "04d6cdc0",
   "metadata": {},
   "outputs": [
    {
     "name": "stdout",
     "output_type": "stream",
     "text": [
      "[0.83076923]\n"
     ]
    }
   ],
   "source": [
    "input_4=[1,1,1,1,0,0.5,1,1,1,1,1,0.3,1,1,0,0,0,0]\n",
    "outputs = model_.predict(input_4)\n",
    "print(outputs)"
   ]
  },
  {
   "cell_type": "markdown",
   "id": "a75439c0",
   "metadata": {},
   "source": [
    "2. prediction for milk priduct"
   ]
  },
  {
   "cell_type": "code",
   "execution_count": 53,
   "id": "4a8b1c1f",
   "metadata": {},
   "outputs": [
    {
     "name": "stdout",
     "output_type": "stream",
     "text": [
      "[0.90769231]\n"
     ]
    }
   ],
   "source": [
    "input_5=[1,1,1,1,1,0.4,1,1,1,1,1,0.4,1,0,0,1,0,0]\n",
    "outputs = model_.predict(input_5)\n",
    "print(outputs)"
   ]
  },
  {
   "cell_type": "code",
   "execution_count": null,
   "id": "ece4128e",
   "metadata": {},
   "outputs": [],
   "source": []
  }
 ],
 "metadata": {
  "kernelspec": {
   "display_name": "Python 3 (ipykernel)",
   "language": "python",
   "name": "python3"
  },
  "language_info": {
   "codemirror_mode": {
    "name": "ipython",
    "version": 3
   },
   "file_extension": ".py",
   "mimetype": "text/x-python",
   "name": "python",
   "nbconvert_exporter": "python",
   "pygments_lexer": "ipython3",
   "version": "3.7.13"
  }
 },
 "nbformat": 4,
 "nbformat_minor": 5
}
