{
 "cells": [
  {
   "attachments": {
    "lambdatheta.jpg": {
     "image/jpeg": "[encoded data removed]"
    }
   },
   "cell_type": "markdown",
   "id": "ca8533ca",
   "metadata": {},
   "source": [
    "![lambdatheta.jpg](attachment:lambdatheta.jpg)"
   ]
  },
  {
   "cell_type": "code",
   "execution_count": 4,
   "id": "dfca4f0d",
   "metadata": {},
   "outputs": [],
   "source": [
    "import pandas as pd\n",
    "import numpy as np\n",
    "import matplotlib.pyplot as plt\n",
    "from sklearn.linear_model import LinearRegression\n",
    "from sklearn.tree import DecisionTreeRegressor\n",
    "from sklearn.ensemble import RandomForestRegressor\n",
    "from sklearn.model_selection import train_test_split\n",
    "from sklearn.metrics import mean_squared_error, r2_score\n",
    "from sklearn.metrics import mean_squared_error, mean_absolute_error\n",
    "\n",
    "# Load the dataset into a pandas DataFrame\n",
    "data = {'Season': [1, 0, 1, 1, 1, 1, 0, 1, 0, 1, 1, 1, 0, 0, 0, 0, 0, 0, 1, 0],\n",
    "        'Location': [1, 0.5, 0, 1, 1, 1, 0.5, 1, 0.5, 0, 0, 0, 0, 0.5, 0.5, 1, 1, 1, 1, 1],\n",
    "        'Competetion in Market': [1, 1, 1, 1, 1, 1, 1, 1, 1, 1, 1, 1, 1, 1, 1, 1, 1, 1, 1, 1],\n",
    "        'Marketing': [0, 0, 0, 0, 1, 0, 0, 0, 0, 0, 0, 0, 0, 0, 0, 0, 0, 0, 0, 0],\n",
    "        'Consumer_Bahviour': [0, 0, 0, 0, 1, 1, 1, 1, 1, 0, 1, 1, 1, 1, 1, 1, 1, 1, 1, 1],\n",
    "        'Discounted_price': [0.5, 0.1, 0.2, 0.4, 0.3, 0.2, 0.1, 0, 0.3, 0.2, 0.5, 0.1, 0.2, 0.4, 0.3, 0.2, 0.1, 0, 0.3, 0.2],\n",
    "        'Product_Quality': [1, 1, 1, 1, 1, 1, 1, 1, 1, 1, 1, 1, 0, 0, 0, 0, 0, 0, 0, 0],\n",
    "        'Product_Availability': [1, 1, 1, 1, 1, 1, 1, 1, 1, 1, 1, 1, 1, 0.5, 1, 1, 0.5, 1, 1, 1],\n",
    "        'Output': [5.5, 3.6, 4.2, 5.4, 7.3, 5.2, 3.6, 5, 4.8, 5.2, 6, 5.1, 4.2, 4.4, 4.3, 3.7, 3.1, 4, 5.3, 4.2]}\n",
    "df = pd.DataFrame(data)\n",
    "\n",
    "# Split the dataset into features and target variables\n",
    "X = df.iloc[:, :-1].values\n",
    "y = df.iloc[:, -1].values\n",
    "\n",
    "# Split the data into training and testing sets\n",
    "X_train, X_test, y_train, y_test = train_test_split(X, y, test_size=0.2, random_state=0)\n",
    "\n",
    "\n"
   ]
  },
  {
   "cell_type": "code",
   "execution_count": 30,
   "id": "2bc60980",
   "metadata": {},
   "outputs": [
    {
     "data": {
      "text/html": [
       "<div>\n",
       "<style scoped>\n",
       "    .dataframe tbody tr th:only-of-type {\n",
       "        vertical-align: middle;\n",
       "    }\n",
       "\n",
       "    .dataframe tbody tr th {\n",
       "        vertical-align: top;\n",
       "    }\n",
       "\n",
       "    .dataframe thead th {\n",
       "        text-align: right;\n",
       "    }\n",
       "</style>\n",
       "<table border=\"1\" class=\"dataframe\">\n",
       "  <thead>\n",
       "    <tr style=\"text-align: right;\">\n",
       "      <th></th>\n",
       "      <th>Season</th>\n",
       "      <th>Location</th>\n",
       "      <th>Competetion in Market</th>\n",
       "      <th>Marketing</th>\n",
       "      <th>Consumer_Bahviour</th>\n",
       "      <th>Discounted_price</th>\n",
       "      <th>Product_Quality</th>\n",
       "      <th>Product_Availability</th>\n",
       "      <th>Output</th>\n",
       "    </tr>\n",
       "  </thead>\n",
       "  <tbody>\n",
       "    <tr>\n",
       "      <th>0</th>\n",
       "      <td>1</td>\n",
       "      <td>1.0</td>\n",
       "      <td>1</td>\n",
       "      <td>0</td>\n",
       "      <td>0</td>\n",
       "      <td>0.5</td>\n",
       "      <td>1</td>\n",
       "      <td>1.0</td>\n",
       "      <td>5.5</td>\n",
       "    </tr>\n",
       "    <tr>\n",
       "      <th>1</th>\n",
       "      <td>0</td>\n",
       "      <td>0.5</td>\n",
       "      <td>1</td>\n",
       "      <td>0</td>\n",
       "      <td>0</td>\n",
       "      <td>0.1</td>\n",
       "      <td>1</td>\n",
       "      <td>1.0</td>\n",
       "      <td>3.6</td>\n",
       "    </tr>\n",
       "    <tr>\n",
       "      <th>2</th>\n",
       "      <td>1</td>\n",
       "      <td>0.0</td>\n",
       "      <td>1</td>\n",
       "      <td>0</td>\n",
       "      <td>0</td>\n",
       "      <td>0.2</td>\n",
       "      <td>1</td>\n",
       "      <td>1.0</td>\n",
       "      <td>4.2</td>\n",
       "    </tr>\n",
       "    <tr>\n",
       "      <th>3</th>\n",
       "      <td>1</td>\n",
       "      <td>1.0</td>\n",
       "      <td>1</td>\n",
       "      <td>0</td>\n",
       "      <td>0</td>\n",
       "      <td>0.4</td>\n",
       "      <td>1</td>\n",
       "      <td>1.0</td>\n",
       "      <td>5.4</td>\n",
       "    </tr>\n",
       "    <tr>\n",
       "      <th>4</th>\n",
       "      <td>1</td>\n",
       "      <td>1.0</td>\n",
       "      <td>1</td>\n",
       "      <td>1</td>\n",
       "      <td>1</td>\n",
       "      <td>0.3</td>\n",
       "      <td>1</td>\n",
       "      <td>1.0</td>\n",
       "      <td>7.3</td>\n",
       "    </tr>\n",
       "    <tr>\n",
       "      <th>5</th>\n",
       "      <td>1</td>\n",
       "      <td>1.0</td>\n",
       "      <td>1</td>\n",
       "      <td>0</td>\n",
       "      <td>1</td>\n",
       "      <td>0.2</td>\n",
       "      <td>1</td>\n",
       "      <td>1.0</td>\n",
       "      <td>5.2</td>\n",
       "    </tr>\n",
       "    <tr>\n",
       "      <th>6</th>\n",
       "      <td>0</td>\n",
       "      <td>0.5</td>\n",
       "      <td>1</td>\n",
       "      <td>0</td>\n",
       "      <td>1</td>\n",
       "      <td>0.1</td>\n",
       "      <td>1</td>\n",
       "      <td>1.0</td>\n",
       "      <td>3.6</td>\n",
       "    </tr>\n",
       "    <tr>\n",
       "      <th>7</th>\n",
       "      <td>1</td>\n",
       "      <td>1.0</td>\n",
       "      <td>1</td>\n",
       "      <td>0</td>\n",
       "      <td>1</td>\n",
       "      <td>0.0</td>\n",
       "      <td>1</td>\n",
       "      <td>1.0</td>\n",
       "      <td>5.0</td>\n",
       "    </tr>\n",
       "    <tr>\n",
       "      <th>8</th>\n",
       "      <td>0</td>\n",
       "      <td>0.5</td>\n",
       "      <td>1</td>\n",
       "      <td>0</td>\n",
       "      <td>1</td>\n",
       "      <td>0.3</td>\n",
       "      <td>1</td>\n",
       "      <td>1.0</td>\n",
       "      <td>4.8</td>\n",
       "    </tr>\n",
       "    <tr>\n",
       "      <th>9</th>\n",
       "      <td>1</td>\n",
       "      <td>0.0</td>\n",
       "      <td>1</td>\n",
       "      <td>0</td>\n",
       "      <td>0</td>\n",
       "      <td>0.2</td>\n",
       "      <td>1</td>\n",
       "      <td>1.0</td>\n",
       "      <td>5.2</td>\n",
       "    </tr>\n",
       "    <tr>\n",
       "      <th>10</th>\n",
       "      <td>1</td>\n",
       "      <td>0.0</td>\n",
       "      <td>1</td>\n",
       "      <td>0</td>\n",
       "      <td>1</td>\n",
       "      <td>0.5</td>\n",
       "      <td>1</td>\n",
       "      <td>1.0</td>\n",
       "      <td>6.0</td>\n",
       "    </tr>\n",
       "    <tr>\n",
       "      <th>11</th>\n",
       "      <td>1</td>\n",
       "      <td>0.0</td>\n",
       "      <td>1</td>\n",
       "      <td>0</td>\n",
       "      <td>1</td>\n",
       "      <td>0.1</td>\n",
       "      <td>1</td>\n",
       "      <td>1.0</td>\n",
       "      <td>5.1</td>\n",
       "    </tr>\n",
       "    <tr>\n",
       "      <th>12</th>\n",
       "      <td>0</td>\n",
       "      <td>0.0</td>\n",
       "      <td>1</td>\n",
       "      <td>0</td>\n",
       "      <td>1</td>\n",
       "      <td>0.2</td>\n",
       "      <td>0</td>\n",
       "      <td>1.0</td>\n",
       "      <td>4.2</td>\n",
       "    </tr>\n",
       "    <tr>\n",
       "      <th>13</th>\n",
       "      <td>0</td>\n",
       "      <td>0.5</td>\n",
       "      <td>1</td>\n",
       "      <td>0</td>\n",
       "      <td>1</td>\n",
       "      <td>0.4</td>\n",
       "      <td>0</td>\n",
       "      <td>0.5</td>\n",
       "      <td>4.4</td>\n",
       "    </tr>\n",
       "    <tr>\n",
       "      <th>14</th>\n",
       "      <td>0</td>\n",
       "      <td>0.5</td>\n",
       "      <td>1</td>\n",
       "      <td>0</td>\n",
       "      <td>1</td>\n",
       "      <td>0.3</td>\n",
       "      <td>0</td>\n",
       "      <td>1.0</td>\n",
       "      <td>4.3</td>\n",
       "    </tr>\n",
       "    <tr>\n",
       "      <th>15</th>\n",
       "      <td>0</td>\n",
       "      <td>1.0</td>\n",
       "      <td>1</td>\n",
       "      <td>0</td>\n",
       "      <td>1</td>\n",
       "      <td>0.2</td>\n",
       "      <td>0</td>\n",
       "      <td>1.0</td>\n",
       "      <td>3.7</td>\n",
       "    </tr>\n",
       "    <tr>\n",
       "      <th>16</th>\n",
       "      <td>0</td>\n",
       "      <td>1.0</td>\n",
       "      <td>1</td>\n",
       "      <td>0</td>\n",
       "      <td>1</td>\n",
       "      <td>0.1</td>\n",
       "      <td>0</td>\n",
       "      <td>0.5</td>\n",
       "      <td>3.1</td>\n",
       "    </tr>\n",
       "    <tr>\n",
       "      <th>17</th>\n",
       "      <td>0</td>\n",
       "      <td>1.0</td>\n",
       "      <td>1</td>\n",
       "      <td>0</td>\n",
       "      <td>1</td>\n",
       "      <td>0.0</td>\n",
       "      <td>0</td>\n",
       "      <td>1.0</td>\n",
       "      <td>4.0</td>\n",
       "    </tr>\n",
       "    <tr>\n",
       "      <th>18</th>\n",
       "      <td>1</td>\n",
       "      <td>1.0</td>\n",
       "      <td>1</td>\n",
       "      <td>0</td>\n",
       "      <td>1</td>\n",
       "      <td>0.3</td>\n",
       "      <td>0</td>\n",
       "      <td>1.0</td>\n",
       "      <td>5.3</td>\n",
       "    </tr>\n",
       "    <tr>\n",
       "      <th>19</th>\n",
       "      <td>0</td>\n",
       "      <td>1.0</td>\n",
       "      <td>1</td>\n",
       "      <td>0</td>\n",
       "      <td>1</td>\n",
       "      <td>0.2</td>\n",
       "      <td>0</td>\n",
       "      <td>1.0</td>\n",
       "      <td>4.2</td>\n",
       "    </tr>\n",
       "  </tbody>\n",
       "</table>\n",
       "</div>"
      ],
      "text/plain": [
       "    Season  Location  Competetion in Market  Marketing  Consumer_Bahviour  \\\n",
       "0        1       1.0                      1          0                  0   \n",
       "1        0       0.5                      1          0                  0   \n",
       "2        1       0.0                      1          0                  0   \n",
       "3        1       1.0                      1          0                  0   \n",
       "4        1       1.0                      1          1                  1   \n",
       "5        1       1.0                      1          0                  1   \n",
       "6        0       0.5                      1          0                  1   \n",
       "7        1       1.0                      1          0                  1   \n",
       "8        0       0.5                      1          0                  1   \n",
       "9        1       0.0                      1          0                  0   \n",
       "10       1       0.0                      1          0                  1   \n",
       "11       1       0.0                      1          0                  1   \n",
       "12       0       0.0                      1          0                  1   \n",
       "13       0       0.5                      1          0                  1   \n",
       "14       0       0.5                      1          0                  1   \n",
       "15       0       1.0                      1          0                  1   \n",
       "16       0       1.0                      1          0                  1   \n",
       "17       0       1.0                      1          0                  1   \n",
       "18       1       1.0                      1          0                  1   \n",
       "19       0       1.0                      1          0                  1   \n",
       "\n",
       "    Discounted_price  Product_Quality  Product_Availability  Output  \n",
       "0                0.5                1                   1.0     5.5  \n",
       "1                0.1                1                   1.0     3.6  \n",
       "2                0.2                1                   1.0     4.2  \n",
       "3                0.4                1                   1.0     5.4  \n",
       "4                0.3                1                   1.0     7.3  \n",
       "5                0.2                1                   1.0     5.2  \n",
       "6                0.1                1                   1.0     3.6  \n",
       "7                0.0                1                   1.0     5.0  \n",
       "8                0.3                1                   1.0     4.8  \n",
       "9                0.2                1                   1.0     5.2  \n",
       "10               0.5                1                   1.0     6.0  \n",
       "11               0.1                1                   1.0     5.1  \n",
       "12               0.2                0                   1.0     4.2  \n",
       "13               0.4                0                   0.5     4.4  \n",
       "14               0.3                0                   1.0     4.3  \n",
       "15               0.2                0                   1.0     3.7  \n",
       "16               0.1                0                   0.5     3.1  \n",
       "17               0.0                0                   1.0     4.0  \n",
       "18               0.3                0                   1.0     5.3  \n",
       "19               0.2                0                   1.0     4.2  "
      ]
     },
     "execution_count": 30,
     "metadata": {},
     "output_type": "execute_result"
    }
   ],
   "source": [
    "df"
   ]
  },
  {
   "cell_type": "code",
   "execution_count": 32,
   "id": "9c3699b2",
   "metadata": {},
   "outputs": [
    {
     "name": "stdout",
     "output_type": "stream",
     "text": [
      "R_squared for the validation data is:0.3148081871993581\n",
      "The mean squared error for the model is:0.2787874188332611 \n",
      "The mean absolute error for the model is:0.4743020304568537 \n"
     ]
    }
   ],
   "source": [
    "lin_model = LinearRegression()\n",
    "# Fit the model to our dataset\n",
    "lin_model.fit(X_train,y_train)\n",
    "y_preds = lin_model.predict(X_test)\n",
    "\n",
    "# Model accuracy\n",
    "print(f\"R_squared for the validation data is:{lin_model.score(X_test, y_test)}\")\n",
    "print(f\"The mean squared error for the model is:{mean_squared_error(y_test, y_preds)} \")\n",
    "print(f\"The mean absolute error for the model is:{mean_absolute_error(y_test, y_preds)} \")"
   ]
  },
  {
   "cell_type": "code",
   "execution_count": 33,
   "id": "286c3d22",
   "metadata": {},
   "outputs": [
    {
     "name": "stdout",
     "output_type": "stream",
     "text": [
      "[5.82982234 3.0536802  4.10482234 4.07411168] [5.3 3.6 4.2 4.8]\n"
     ]
    }
   ],
   "source": [
    "print(y_preds,y_test)"
   ]
  },
  {
   "cell_type": "code",
   "execution_count": 34,
   "id": "bfd3d7c6",
   "metadata": {},
   "outputs": [
    {
     "data": {
      "text/plain": [
       "<function matplotlib.pyplot.scatter(x, y, s=None, c=None, marker=None, cmap=None, norm=None, vmin=None, vmax=None, alpha=None, linewidths=None, *, edgecolors=None, plotnonfinite=False, data=None, **kwargs)>"
      ]
     },
     "execution_count": 34,
     "metadata": {},
     "output_type": "execute_result"
    }
   ],
   "source": [
    "plt.scatter"
   ]
  },
  {
   "cell_type": "code",
   "execution_count": 35,
   "id": "e4cfa4b2",
   "metadata": {},
   "outputs": [
    {
     "name": "stderr",
     "output_type": "stream",
     "text": [
      "No artists with labels found to put in legend.  Note that artists whose label start with an underscore are ignored when legend() is called with no argument.\n"
     ]
    },
    {
     "data": {
      "image/png": "[encoded data removed]",
      "text/plain": [
       "<Figure size 640x480 with 1 Axes>"
      ]
     },
     "metadata": {},
     "output_type": "display_data"
    }
   ],
   "source": [
    "import matplotlib.pyplot as plt\n",
    "\n",
    "# Make predictions using the linear regression model\n",
    "y_pred = lin_model.predict(X_test)\n",
    "\n",
    "# Plot the x_test values against both the y_test and y_pred values\n",
    "plt.plot(y_test, 'o')\n",
    "plt.plot(y_preds, 'r')\n",
    "plt.xlabel('x_test')\n",
    "plt.ylabel('Output')\n",
    "plt.title('Linear Regression x_test vs Actual and Predicted Output')\n",
    "plt.legend()\n",
    "plt.show()\n"
   ]
  },
  {
   "cell_type": "code",
   "execution_count": 36,
   "id": "59f469db",
   "metadata": {},
   "outputs": [],
   "source": [
    "from sklearn.linear_model import LinearRegression\n",
    "from sklearn.tree import DecisionTreeRegressor\n",
    "from sklearn.ensemble import RandomForestRegressor"
   ]
  },
  {
   "cell_type": "code",
   "execution_count": 37,
   "id": "abe95670",
   "metadata": {},
   "outputs": [
    {
     "name": "stdout",
     "output_type": "stream",
     "text": [
      "R_squared for the validation data is:0.3917050691244236\n",
      "The mean squared error for the model is:0.24750000000000005 \n",
      "The mean absolute error for the model is:0.42500000000000004 \n"
     ]
    }
   ],
   "source": [
    "lin_model_1 = DecisionTreeRegressor()\n",
    "# Fit the model to our dataset\n",
    "lin_model_1.fit(X_train,y_train)\n",
    "y_preds = lin_model_1.predict(X_test)\n",
    "\n",
    "# Model accuracy\n",
    "print(f\"R_squared for the validation data is:{lin_model_1.score(X_test, y_test)}\")\n",
    "print(f\"The mean squared error for the model is:{mean_squared_error(y_test, y_preds)} \")\n",
    "print(f\"The mean absolute error for the model is:{mean_absolute_error(y_test, y_preds)} \")"
   ]
  },
  {
   "cell_type": "code",
   "execution_count": 39,
   "id": "e663afee",
   "metadata": {},
   "outputs": [
    {
     "name": "stderr",
     "output_type": "stream",
     "text": [
      "No artists with labels found to put in legend.  Note that artists whose label start with an underscore are ignored when legend() is called with no argument.\n"
     ]
    },
    {
     "data": {
      "image/png": "[encoded data removed]",
      "text/plain": [
       "<Figure size 640x480 with 1 Axes>"
      ]
     },
     "metadata": {},
     "output_type": "display_data"
    }
   ],
   "source": [
    "import matplotlib.pyplot as plt\n",
    "\n",
    "\n",
    "y_pred = lin_model_1.predict(X_test)\n",
    "\n",
    "plt.plot(y_test, 'o')\n",
    "plt.plot(y_preds, 'r')\n",
    "plt.xlabel('x_test')\n",
    "plt.ylabel('Output')\n",
    "plt.title(' DecisionTree Regressor x_test vs Actual and Predicted Output')\n",
    "plt.legend()\n",
    "plt.show()"
   ]
  },
  {
   "cell_type": "code",
   "execution_count": 40,
   "id": "74ada4b1",
   "metadata": {},
   "outputs": [
    {
     "name": "stdout",
     "output_type": "stream",
     "text": [
      "R_squared for the validation data is:0.6606482334869375\n",
      "The mean squared error for the model is:0.1380737500000023 \n",
      "The mean absolute error for the model is:0.36725000000000285 \n"
     ]
    }
   ],
   "source": [
    "lin_model_2 = RandomForestRegressor()\n",
    "# Fit the model to our dataset\n",
    "lin_model_2.fit(X_train,y_train)\n",
    "y_preds = lin_model_2.predict(X_test)\n",
    "\n",
    "# Model accuracy\n",
    "print(f\"R_squared for the validation data is:{lin_model_2.score(X_test, y_test)}\")\n",
    "print(f\"The mean squared error for the model is:{mean_squared_error(y_test, y_preds)} \")\n",
    "print(f\"The mean absolute error for the model is:{mean_absolute_error(y_test, y_preds)} \")"
   ]
  },
  {
   "cell_type": "code",
   "execution_count": 41,
   "id": "64872322",
   "metadata": {},
   "outputs": [
    {
     "name": "stderr",
     "output_type": "stream",
     "text": [
      "No artists with labels found to put in legend.  Note that artists whose label start with an underscore are ignored when legend() is called with no argument.\n"
     ]
    },
    {
     "data": {
      "image/png": "[encoded data removed]",
      "text/plain": [
       "<Figure size 640x480 with 1 Axes>"
      ]
     },
     "metadata": {},
     "output_type": "display_data"
    }
   ],
   "source": [
    "import matplotlib.pyplot as plt\n",
    "\n",
    "\n",
    "y_pred = lin_model_2.predict(X_test)\n",
    "\n",
    "plt.plot(y_test, 'o')\n",
    "plt.plot(y_preds, 'r')\n",
    "plt.xlabel('x_test')\n",
    "plt.ylabel('Output')\n",
    "plt.title('RandomForestRegressor x_test vs Actual and Predicted Output')\n",
    "plt.legend()\n",
    "plt.show()"
   ]
  },
  {
   "cell_type": "code",
   "execution_count": 47,
   "id": "f5aa61d2",
   "metadata": {},
   "outputs": [
    {
     "name": "stdout",
     "output_type": "stream",
     "text": [
      "Predicted output of Random forest:  [4.942]\n",
      "Predicted output of Linear Regression:  [5.82982234]\n",
      "Predicted output of Decision Tree:  [6.]\n"
     ]
    }
   ],
   "source": [
    "season = 1\n",
    "location = 1\n",
    "competition = 1\n",
    "marketing = 0\n",
    "consumer_behavior = 1\n",
    "discounted_price = 0.3\n",
    "product_quality = 0\n",
    "product_availability = 1\n",
    "\n",
    "\n",
    "new_input = [[season, location, competition, marketing, consumer_behavior, discounted_price, product_quality, product_availability]]\n",
    "\n",
    "\n",
    "new_output = lin_model_2.predict(new_input)\n",
    "new_output_1=lin_model.predict(new_input)\n",
    "new_output_2=lin_model_1.predict(new_input)\n",
    "\n",
    "print(\"Predicted output of Random forest: \", new_output)\n",
    "print(\"Predicted output of Linear Regression: \", new_output_1)\n",
    "print(\"Predicted output of Decision Tree: \", new_output_2)\n"
   ]
  },
  {
   "cell_type": "code",
   "execution_count": null,
   "id": "0ddc9913",
   "metadata": {},
   "outputs": [],
   "source": []
  }
 ],
 "metadata": {
  "kernelspec": {
   "display_name": "Python 3 (ipykernel)",
   "language": "python",
   "name": "python3"
  },
  "language_info": {
   "codemirror_mode": {
    "name": "ipython",
    "version": 3
   },
   "file_extension": ".py",
   "mimetype": "text/x-python",
   "name": "python",
   "nbconvert_exporter": "python",
   "pygments_lexer": "ipython3",
   "version": "3.9.13"
  }
 },
 "nbformat": 4,
 "nbformat_minor": 5
}
